{
 "cells": [
  {
   "cell_type": "markdown",
   "id": "c2b41824-318b-4d2f-b6e7-273e1140b0c4",
   "metadata": {},
   "source": [
    "# K-means Algorithm\n",
    "\n",
    "K-means is a **clustering algorithm** that groups data into a predefined number of clusters based on feature similarity. The goal is to minimize the variance within each cluster by finding a set of centroids that best represent the data points.\n",
    "\n",
    "### Steps of the K-means Algorithm:\n",
    "\n",
    "1. **Choose the number of clusters, \\( k \\)**: \n",
    "   The first step in the K-means algorithm is to specify the number of clusters to form, denoted by \\( k \\). The value of \\( k \\) is a hyperparameter that must be chosen before running the algorithm.\n",
    "\n",
    "2. **Initialize centroids**: \n",
    "   Randomly initialize \\( k \\) centroids. These centroids represent the center of each cluster and can either be chosen randomly from the data points or by using more advanced methods like **k-means++** to ensure better convergence.\n",
    "\n",
    "3. **Assign points to the nearest centroid**: \n",
    "   For each data point \\( x_i \\), assign it to the cluster whose centroid is closest to it. The proximity is measured using the Euclidean distance:\n",
    "\n",
    "   $$ d(x_i, c_j) = \\sqrt{(x_i - c_j)^2} $$\n",
    "\n",
    "   where \\( x_i \\) is the data point and \\( c_j \\) is the centroid of cluster \\( j \\).\n",
    "\n",
    "4. **Update the centroids**: \n",
    "   After assigning all data points to clusters, the centroids are recomputed by calculating the mean of all points assigned to each cluster:\n",
    "\n",
    "   $$ c_j = \\frac{1}{n_j} \\sum_{i \\in C_j} x_i $$\n",
    "\n",
    "   where \\( C_j \\) is the set of data points assigned to cluster \\( j \\) and \\( n_j \\) is the number of points in that cluster.\n",
    "\n",
    "5. **Repeat steps 3 and 4**: \n",
    "   Steps 3 and 4 are repeated until the centroids do not change significantly or a set number of iterations is reached. This indicates that the algorithm has converged.\n",
    "\n",
    "## Mathematical Formulation\n",
    "\n",
    "The K-means algorithm seeks to minimize the **within-cluster sum of squares (WCSS)**, which is the sum of the squared Euclidean distances between each data point and its respective centroid.\n",
    "\n",
    "$$ J = \\sum_{j=1}^{k} \\sum_{i \\in C_j} \\| x_i - c_j \\|^2 $$\n",
    "\n",
    "Where:\n",
    "- \\( k \\) is the number of clusters.\n",
    "- \\( C_j \\) is the set of points in cluster \\( j \\).\n",
    "- \\( c_j \\) is the centroid of cluster \\( j \\).\n",
    "- \\( x_i \\) is a data point in \\( C_j \\).\n",
    "\n",
    "## Convergence\n",
    "\n",
    "The K-means algorithm converges when the centroids no longer change significantly between iterations. The algorithm can also be stopped after a set number of iterations.\n",
    "\n",
    "### Key Points:\n",
    "- K-means is sensitive to the initial placement of centroids, which can result in different clustering outcomes.\n",
    "- The number of clusters \\( k \\) needs to be chosen beforehand. This can be done using methods like the **elbow method** or **silhouette score**.\n",
    "- K-means works best with spherical (globular) clusters.\n",
    "\n",
    "## Applications of K-means:\n",
    "\n",
    "- **Customer segmentation**: Grouping customers based on similar purchasing behavior.\n",
    "- **Document clustering**: Categorizing documents based on content similarity.\n",
    "- **Image compression**: Reducing the number of colors in an image.\n",
    "- **Anomaly detection**: Identifying outliers by placing them in a separate cluster.\n",
    "\n"
   ]
  },
  {
   "cell_type": "code",
   "execution_count": 1,
   "id": "0a57361d-35ae-4200-bccf-10b97e2130e2",
   "metadata": {},
   "outputs": [],
   "source": [
    "import numpy as np"
   ]
  },
  {
   "cell_type": "code",
   "execution_count": 2,
   "id": "f10e9a02-2e3e-4aaa-b2f2-10388242dab4",
   "metadata": {},
   "outputs": [],
   "source": [
    "\n",
    "# Function to calculate Euclidean distance between two points\n",
    "def euclidean_distance(p1, p2):\n",
    "    return np.sqrt((p1[0] - p2[0])**2 + (p1[1] - p2[1])**2)"
   ]
  },
  {
   "cell_type": "code",
   "execution_count": 3,
   "id": "9f5fb3aa-3fa9-4d8a-aab6-3ca0f4350d72",
   "metadata": {},
   "outputs": [],
   "source": [
    "\n",
    "# Simple K-means function\n",
    "def simple_kmeans(points, k, max_iters=100):\n",
    "    # Step 1: Randomly initialize centroids (select k points as initial centroids)\n",
    "    centroids = points[np.random.choice(len(points), k, replace=False)]\n",
    "    \n",
    "    for _ in range(max_iters):\n",
    "        # Step 2: Assign each point to the nearest centroid\n",
    "        clusters = {i: [] for i in range(k)}  # Create a dictionary to hold clusters\n",
    "        \n",
    "        for point in points:\n",
    "            distances = [euclidean_distance(point, centroid) for centroid in centroids]\n",
    "            closest_centroid = np.argmin(distances)  # Index of the nearest centroid\n",
    "            clusters[closest_centroid].append(point)\n",
    "        \n",
    "        # Step 3: Recalculate centroids by averaging the points in each cluster\n",
    "        new_centroids = []\n",
    "        for i in range(k):\n",
    "            cluster_points = np.array(clusters[i])\n",
    "            new_centroids.append(np.mean(cluster_points, axis=0))  # Calculate new centroid\n",
    "        \n",
    "        new_centroids = np.array(new_centroids)\n",
    "        \n",
    "        # Step 4: If centroids do not change, we stop the algorithm\n",
    "        if np.all(new_centroids == centroids):\n",
    "            break\n",
    "        \n",
    "        centroids = new_centroids\n",
    "    \n",
    "    return clusters, centroids"
   ]
  },
  {
   "cell_type": "code",
   "execution_count": 4,
   "id": "7ab4bd81-7251-430e-a608-5b69edb985db",
   "metadata": {},
   "outputs": [],
   "source": [
    "# Example usage:\n",
    "data_points = np.array([(0, 1), (1, 3), (2, 2), (3, 5), (4, 7), (5, 8), (6, 8), (7, 9), (8, 10), (9, 12)])\n",
    "num_clusters = 3\n",
    "\n",
    "clusters, centroids = simple_kmeans(data_points, num_clusters)\n"
   ]
  },
  {
   "cell_type": "code",
   "execution_count": 5,
   "id": "f28bb6fd-f837-4784-8ed0-0349f601e838",
   "metadata": {},
   "outputs": [
    {
     "name": "stdout",
     "output_type": "stream",
     "text": [
      "Cluster 1:\n",
      "  [7 9]\n",
      "  [ 8 10]\n",
      "  [ 9 12]\n",
      "Centroid: [ 8.         10.33333333]\n",
      "\n",
      "Cluster 2:\n",
      "  [0 1]\n",
      "  [1 3]\n",
      "  [2 2]\n",
      "  [3 5]\n",
      "Centroid: [1.5  2.75]\n",
      "\n",
      "Cluster 3:\n",
      "  [4 7]\n",
      "  [5 8]\n",
      "  [6 8]\n",
      "Centroid: [5.         7.66666667]\n",
      "\n"
     ]
    }
   ],
   "source": [
    "\n",
    "# Printing the results\n",
    "for cluster_num, points in clusters.items():\n",
    "    print(f\"Cluster {cluster_num + 1}:\")\n",
    "    for point in points:\n",
    "        print(f\"  {point}\")\n",
    "    print(f\"Centroid: {centroids[cluster_num]}\")\n",
    "    print()\n"
   ]
  },
  {
   "cell_type": "code",
   "execution_count": 7,
   "id": "35375bee-fee9-44ca-982a-72c2aad7273a",
   "metadata": {},
   "outputs": [
    {
     "name": "stdout",
     "output_type": "stream",
     "text": [
      "Cluster 1:\n",
      "  [3 5]\n",
      "  [4 7]\n",
      "  [5 8]\n",
      "Cluster 2:\n",
      "  [6 8]\n",
      "  [7 9]\n",
      "  [ 8 10]\n",
      "  [ 9 12]\n",
      "Cluster 3:\n",
      "  [0 1]\n",
      "  [1 3]\n",
      "  [2 2]\n"
     ]
    }
   ],
   "source": [
    "# using sklearn\n",
    "import numpy as np\n",
    "from sklearn.cluster import KMeans\n",
    "\n",
    "# Function to perform K-means clustering and return clusters\n",
    "def perform_kmeans_clustering(data_points, num_clusters):\n",
    "    \n",
    "    # Converting the data_points to a numpy array\n",
    "    data_points = np.array(data_points)\n",
    "    \n",
    "    # Applying KMeans\n",
    "    kmeans = KMeans(n_clusters=num_clusters, random_state=42)\n",
    "    kmeans.fit(data_points)\n",
    "    \n",
    "    # Getting the labels (cluster assignments for each point)\n",
    "    labels = kmeans.labels_\n",
    "    \n",
    "    # Organizing points into clusters\n",
    "    clusters = {}\n",
    "    for i in range(num_clusters):\n",
    "        clusters[i+1] = data_points[labels == i]\n",
    "    \n",
    "    return clusters\n",
    "\n",
    "# Example usage of the function\n",
    "data_points = np.array([(0, 1), (1, 3), (2, 2), (3, 5), (4, 7), (5, 8), (6, 8), (7, 9), (8, 10), (9, 12)])\n",
    "num_clusters = 3\n",
    "\n",
    "# Performing K-means clustering\n",
    "clusters = perform_kmeans_clustering(data_points, num_clusters)\n",
    "\n",
    "# Printing the clusters\n",
    "for cluster_num, cluster_points in clusters.items():\n",
    "    print(f\"Cluster {cluster_num}:\")\n",
    "    for point in cluster_points:\n",
    "        print(f\"  {point}\")\n"
   ]
  },
  {
   "cell_type": "code",
   "execution_count": null,
   "id": "0c46b38d-b33d-4981-b9bc-e296e4b0278a",
   "metadata": {},
   "outputs": [],
   "source": []
  }
 ],
 "metadata": {
  "kernelspec": {
   "display_name": "Python 3 (ipykernel)",
   "language": "python",
   "name": "python3"
  },
  "language_info": {
   "codemirror_mode": {
    "name": "ipython",
    "version": 3
   },
   "file_extension": ".py",
   "mimetype": "text/x-python",
   "name": "python",
   "nbconvert_exporter": "python",
   "pygments_lexer": "ipython3",
   "version": "3.12.3"
  },
  "widgets": {
   "application/vnd.jupyter.widget-state+json": {
    "state": {},
    "version_major": 2,
    "version_minor": 0
   }
  }
 },
 "nbformat": 4,
 "nbformat_minor": 5
}
