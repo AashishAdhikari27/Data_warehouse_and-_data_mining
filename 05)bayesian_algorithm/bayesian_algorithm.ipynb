{
 "cells": [
  {
   "cell_type": "markdown",
   "id": "a357dda5-d731-4a56-8d65-7cae1f953440",
   "metadata": {},
   "source": [
    "# Bayesian Algorithm\n",
    "\n",
    "The **Bayesian Algorithm** is a probabilistic model based on **Bayes' Theorem** used for making predictions or decisions under uncertainty. It is widely used in various fields such as machine learning, statistics, medical diagnostics, and decision theory.\n",
    "\n",
    "Bayesian algorithms rely on prior knowledge (called prior probability) and update their predictions as new data (called likelihood) is observed. The result is a posterior probability distribution that provides an updated belief about the model’s parameters or predictions.\n",
    "\n",
    "Bayesian methods are more flexible than traditional algorithms like Naive Bayes because they can be applied to a wider range of problems and work with continuous or discrete data.\n",
    "\n",
    "---\n",
    "\n",
    "## Bayes' Theorem\n",
    "\n",
    "At the heart of Bayesian algorithms lies **Bayes' Theorem**, which describes the relationship between the **prior probability**, **likelihood**, and **posterior probability**. The formula is:\n",
    "\n",
    "$$\n",
    "P(H|D) = \\frac{P(D|H) \\cdot P(H)}{P(D)}\n",
    "$$\n",
    "\n",
    "Where:\n",
    "- \\( P(H|D) \\) is the **posterior probability**, or the probability of the hypothesis \\( H \\) given the data \\( D \\).\n",
    "- \\( P(D|H) \\) is the **likelihood**, the probability of the data \\( D \\) given the hypothesis \\( H \\).\n",
    "- \\( P(H) \\) is the **prior probability**, the initial probability of the hypothesis \\( H \\) before observing the data.\n",
    "- \\( P(D) \\) is the **evidence**, or the probability of observing the data \\( D \\), irrespective of the hypothesis.\n",
    "\n",
    "---\n",
    "\n",
    "## Why is Bayesian Algorithm used?\n",
    "\n",
    "Bayesian algorithms are used in situations where uncertainty needs to be quantified and predictions need to be updated as new information arrives. They offer several advantages:\n",
    "\n",
    "1. **Flexibility**: Bayesian methods can be applied to both **continuous** and **discrete** data.\n",
    "2. **Incorporates Prior Knowledge**: By including a prior probability, Bayesian methods allow for the incorporation of expert knowledge or previous observations, which can improve model performance.\n",
    "3. **Provides Uncertainty Estimates**: The output of a Bayesian model is a **probability distribution**, which provides not only a prediction but also the uncertainty associated with that prediction.\n",
    "4. **Dynamic Learning**: The model can be updated as more data becomes available, making it suitable for real-time applications.\n",
    "\n",
    "## Applications of Bayesian Algorithm\n",
    "\n",
    "Bayesian algorithms are widely used in a variety of fields:\n",
    "\n",
    "- **Machine Learning**: For classification, regression, and model selection.\n",
    "- **Medical Diagnosis**: Predicting disease presence based on patient data, incorporating prior knowledge of disease prevalence.\n",
    "- **Spam Filtering**: Identifying spam emails by continuously updating probabilities as new emails arrive.\n",
    "- **Recommendation Systems**: Using Bayesian inference to improve recommendation accuracy by incorporating prior knowledge about user preferences.\n",
    "- **Robotics and AI**: For decision-making under uncertainty, such as in reinforcement learning.\n",
    "\n",
    "---\n",
    "\n",
    "## Steps in Bayesian Algorithm\n",
    "\n",
    "1. **Define the Hypothesis**: The hypothesis \\( H \\) represents the possible outcomes or predictions you are trying to make.\n",
    "2. **Set the Prior Probability**: This reflects the initial belief about the probability of the hypothesis before seeing any data.\n",
    "3. **Collect Data**: Obtain the likelihood, which is the probability of observing the data given the hypothesis.\n",
    "4. **Apply Bayes' Theorem**: Use Bayes' Theorem to update the prior probability with the likelihood to calculate the posterior probability.\n",
    "5. **Make Predictions**: The posterior probability is then used to make predictions or decisions based on the updated belief.\n",
    "\n",
    "## Example of Bayesian Algorithm\n",
    "\n",
    "Suppose you're trying to predict the probability of a patient having a particular disease (Hypothesis \\( H \\)) based on the results of a test (Data \\( D \\)). Using Bayesian Inference:\n",
    "\n",
    "1. **Prior Probability \\( P(H) \\)**: The prior probability represents the likelihood of the patient having the disease before considering the test result. This could be based on historical data (e.g., 1% of the population has the disease).\n",
    "   \n",
    "2. **Likelihood \\( P(D|H) \\)**: The likelihood represents the probability of getting a positive test result given that the patient has the disease. This could be obtained from clinical studies (e.g., 90% of patients with the disease test positive).\n",
    "\n",
    "3. **Evidence \\( P(D) \\)**: The evidence is the probability of getting a positive test result regardless of whether the patient has the disease or not.\n",
    "\n",
    "4. **Posterior Probability \\( P(H|D) \\)**: After applying Bayes' Theorem, we update our belief about the probability of the patient having the disease based on the test result.\n",
    "\n",
    "---\n",
    "\n",
    "### Formula:\n",
    "$$\n",
    "P(H|D) = \\frac{P(D|H) \\cdot P(H)}{P(D)}\n",
    "$$\n",
    "\n",
    "Where:\n",
    "- \\( P(H|D) \\) is the probability of the patient having the disease after the test result.\n",
    "- \\( P(D|H) \\) is the probability of a positive test result given that the patient has the disease.\n",
    "- \\( P(H) \\) is the initial probability of having the disease (before the test).\n",
    "- \\( P(D) \\) is the total probability of observing a positive test result.\n",
    "---\n",
    "## Advantages of Bayesian Algorithm\n",
    "\n",
    "- **Incorporates prior knowledge**: By using a prior distribution, Bayesian models can incorporate prior knowledge or assumptions into the model.\n",
    "- **Probabilistic interpretation**: Bayesian methods provide not only predictions but also uncertainty estimates.\n",
    "- **Adaptability**: The model can update predictions as new data is available.\n",
    "- **Better handling of uncertainty**: It is well-suited for problems with uncertain or missing data.\n",
    "\n",
    "## Disadvantages of Bayesian Algorithm\n",
    "\n",
    "- **Computationally expensive**: In many cases, calculating the posterior probability requires extensive computation, especially with large datasets.\n",
    "- **Choosing the right prior**: The effectiveness of the Bayesian model can depend heavily on the chosen prior distribution, which may not always be clear.\n",
    "- **Requires strong domain knowledge**: Setting a good prior may require substantial expertise or historical data.\n",
    "---\n",
    "\n",
    "The **Bayesian Algorithm** provides a powerful framework for reasoning and making predictions under uncertainty. By incorporating prior knowledge and continuously updating beliefs as new data arrives, it can handle a wide range of real-world problems. Despite its computational challenges, its flexibility, adaptability, and probabilistic nature make it an essential tool in statistics, machine learning, and decision-making.\n"
   ]
  },
  {
   "cell_type": "code",
   "execution_count": 7,
   "id": "90f7c747-dbc2-48e2-9417-dafa0c5794a9",
   "metadata": {},
   "outputs": [],
   "source": [
    "# import necessary libraries \n",
    "import pandas as pd\n",
    "from collections import defaultdict\n"
   ]
  },
  {
   "cell_type": "code",
   "execution_count": 8,
   "id": "6b11b8df-388c-4d81-b5c6-214e022c47ae",
   "metadata": {},
   "outputs": [],
   "source": [
    "# Step 1: Calculate the Prior Probability P(C)\n",
    "def calculate_prior(df, target_column):\n",
    "    class_counts = df[target_column].value_counts()\n",
    "    prior_probabilities = class_counts / len(df)\n",
    "    return prior_probabilities\n"
   ]
  },
  {
   "cell_type": "code",
   "execution_count": 9,
   "id": "69fc9c11-0cc9-4f92-8514-f771eb22d55c",
   "metadata": {},
   "outputs": [],
   "source": [
    "# Step 2: Calculate the Likelihood P(X|C) for each feature and class\n",
    "def calculate_likelihood(df, feature, target_column, class_label):\n",
    "    class_data = df[df[target_column] == class_label]\n",
    "    likelihood = class_data[feature].value_counts() / len(class_data)\n",
    "    return likelihood\n"
   ]
  },
  {
   "cell_type": "code",
   "execution_count": 10,
   "id": "3ea020c8-83e7-4cad-803c-ef270abbe372",
   "metadata": {},
   "outputs": [],
   "source": [
    "# Step 3: Predict the class for a new data point\n",
    "def predict(df, new_data, target_column):\n",
    "    prior_probabilities = calculate_prior(df, target_column)\n",
    "    \n",
    "    # Calculate likelihoods for each feature and class\n",
    "    likelihoods = {}\n",
    "    for feature in df.columns[:-1]:  # Exclude the target column 'BuyProduct'\n",
    "        likelihoods[feature] = {}\n",
    "        for class_label in df[target_column].unique():\n",
    "            likelihoods[feature][class_label] = calculate_likelihood(df, feature, target_column, class_label)\n",
    "    \n",
    "    posteriors = defaultdict(float)\n",
    "    \n",
    "    # Calculate posterior for each class\n",
    "    for class_label in df[target_column].unique():\n",
    "        # Start with the prior probability P(C)\n",
    "        posterior = prior_probabilities[class_label]\n",
    "        \n",
    "        # Multiply with the likelihoods for each feature given the class\n",
    "        for feature, value in zip(df.columns[:-1], new_data):  # Exclude 'BuyProduct' column\n",
    "            likelihood = likelihoods[feature].get(class_label, {}).get(value, 0)\n",
    "            posterior *= likelihood\n",
    "        \n",
    "        posteriors[class_label] = posterior\n",
    "    \n",
    "    # Return the class with the highest posterior probability\n",
    "    return max(posteriors, key=posteriors.get)\n"
   ]
  },
  {
   "cell_type": "code",
   "execution_count": 11,
   "id": "e54eda5f-2051-4d35-ae3c-32d0ecd653f9",
   "metadata": {},
   "outputs": [],
   "source": [
    "# Step 4: Example Usage with Data\n",
    "# Sample data\n",
    "data = [\n",
    "    ['Young', 'High', 'High', 'Yes'],\n",
    "    ['Young', 'Low', 'Low', 'No'],\n",
    "    ['Middle', 'High', 'High', 'Yes'],\n",
    "    ['Old', 'Low', 'Low', 'No'],\n",
    "    ['Old', 'Low', 'High', 'Yes'],\n",
    "    ['Young', 'High', 'Low', 'No']\n",
    "]\n",
    "\n",
    "# Convert to a DataFrame\n",
    "columns = ['Age', 'Income', 'Education', 'BuyProduct']\n",
    "df = pd.DataFrame(data, columns=columns)\n"
   ]
  },
  {
   "cell_type": "code",
   "execution_count": 12,
   "id": "ce674845-e6fa-4953-83d1-3230371ee528",
   "metadata": {},
   "outputs": [
    {
     "name": "stdout",
     "output_type": "stream",
     "text": [
      "Prediction: Yes\n"
     ]
    }
   ],
   "source": [
    "# Example: Predict for a new data point ['Middle', 'High', 'High']\n",
    "new_data = ['Middle', 'High', 'High']\n",
    "prediction = predict(df, new_data, target_column='BuyProduct')\n",
    "print(f\"Prediction: {prediction}\")\n"
   ]
  },
  {
   "cell_type": "code",
   "execution_count": null,
   "id": "9bcf470e-780c-4b0a-934f-f93c7a0f0aa8",
   "metadata": {},
   "outputs": [],
   "source": []
  },
  {
   "cell_type": "code",
   "execution_count": null,
   "id": "af8a0bbb-803f-47ca-a86a-3dab7ae652d1",
   "metadata": {},
   "outputs": [],
   "source": []
  },
  {
   "cell_type": "code",
   "execution_count": null,
   "id": "7a0a5f99-eb27-411f-904a-05749f1921e8",
   "metadata": {},
   "outputs": [],
   "source": []
  }
 ],
 "metadata": {
  "kernelspec": {
   "display_name": "Python 3 (ipykernel)",
   "language": "python",
   "name": "python3"
  },
  "language_info": {
   "codemirror_mode": {
    "name": "ipython",
    "version": 3
   },
   "file_extension": ".py",
   "mimetype": "text/x-python",
   "name": "python",
   "nbconvert_exporter": "python",
   "pygments_lexer": "ipython3",
   "version": "3.12.3"
  },
  "widgets": {
   "application/vnd.jupyter.widget-state+json": {
    "state": {},
    "version_major": 2,
    "version_minor": 0
   }
  }
 },
 "nbformat": 4,
 "nbformat_minor": 5
}
